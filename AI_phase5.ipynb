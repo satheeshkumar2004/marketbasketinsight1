{
 "cells": [
  {
   "cell_type": "code",
   "execution_count": 1,
   "id": "0cdb6784",
   "metadata": {},
   "outputs": [],
   "source": [
    "import pandas as pd\n",
    "import numpy as np\n",
    "data=pd.read_csv(\"D:/IBM/market basket insights1.csv\")\n",
    "from mlxtend.frequent_patterns import apriori, association_rules\n",
    "from mlxtend.preprocessing import TransactionEncoder\n",
    "from matplotlib import pyplot as plt\n"
   ]
  },
  {
   "cell_type": "code",
   "execution_count": 2,
   "id": "eac57a02",
   "metadata": {},
   "outputs": [
    {
     "name": "stdout",
     "output_type": "stream",
     "text": [
      "     BillNo                             Itemname  Quantity              Date  \\\n",
      "0    536365   WHITE HANGING HEART T-LIGHT HOLDER         6  01-12-2010 08:26   \n",
      "1    536365                  WHITE METAL LANTERN         6  01-12-2010 08:26   \n",
      "2    536365       CREAM CUPID HEARTS COAT HANGER         8  01-12-2010 08:26   \n",
      "3    536365  KNITTED UNION FLAG HOT WATER BOTTLE         6  01-12-2010 08:26   \n",
      "4    536365       RED WOOLLY HOTTIE WHITE HEART.         6  01-12-2010 08:26   \n",
      "..      ...                                  ...       ...               ...   \n",
      "538  536412    ROUND SNACK BOXES SET OF 4 FRUITS         1  01-12-2010 11:49   \n",
      "539  536412    ROUND SNACK BOXES SET OF 4 SKULLS         1  01-12-2010 11:49   \n",
      "540  536412                 DOLLY GIRL LUNCH BOX         1  01-12-2010 11:49   \n",
      "541  536412                   SPACEBOY LUNCH BOX         1  01-12-2010 11:49   \n",
      "542  536412                 GREEN POLKADOT PLATE         1  01-12-2010 11:49   \n",
      "\n",
      "     Price  CustomerID         Country  \n",
      "0     2.55     17850.0  United Kingdom  \n",
      "1     3.39     17850.0  United Kingdom  \n",
      "2     2.75     17850.0  United Kingdom  \n",
      "3     3.39     17850.0  United Kingdom  \n",
      "4     3.39     17850.0  United Kingdom  \n",
      "..     ...         ...             ...  \n",
      "538   2.95     17920.0  United Kingdom  \n",
      "539   2.95     17920.0  United Kingdom  \n",
      "540   1.95     17920.0  United Kingdom  \n",
      "541   1.95     17920.0  United Kingdom  \n",
      "542   1.69     17920.0  United Kingdom  \n",
      "\n",
      "[543 rows x 7 columns]\n"
     ]
    }
   ],
   "source": [
    "print(data)"
   ]
  },
  {
   "cell_type": "code",
   "execution_count": 3,
   "id": "70274a56",
   "metadata": {},
   "outputs": [
    {
     "name": "stdout",
     "output_type": "stream",
     "text": [
      "     BillNo                             Itemname  Quantity              Date  \\\n",
      "0    536365   WHITE HANGING HEART T-LIGHT HOLDER         6  01-12-2010 08:26   \n",
      "1    536365                  WHITE METAL LANTERN         6  01-12-2010 08:26   \n",
      "2    536365       CREAM CUPID HEARTS COAT HANGER         8  01-12-2010 08:26   \n",
      "3    536365  KNITTED UNION FLAG HOT WATER BOTTLE         6  01-12-2010 08:26   \n",
      "4    536365       RED WOOLLY HOTTIE WHITE HEART.         6  01-12-2010 08:26   \n",
      "..      ...                                  ...       ...               ...   \n",
      "195  536389         CHRISTMAS LIGHTS 10 REINDEER         6  01-12-2010 10:03   \n",
      "196  536389     VINTAGE UNION JACK CUSHION COVER         8  01-12-2010 10:03   \n",
      "197  536389    VINTAGE HEADS AND TAILS CARD GAME        12  01-12-2010 10:03   \n",
      "198  536389      SET OF 3 COLOURED  FLYING DUCKS         6  01-12-2010 10:03   \n",
      "199  536389           SET OF 3 GOLD FLYING DUCKS         4  01-12-2010 10:03   \n",
      "\n",
      "     Price  CustomerID         Country  \n",
      "0     2.55     17850.0  United Kingdom  \n",
      "1     3.39     17850.0  United Kingdom  \n",
      "2     2.75     17850.0  United Kingdom  \n",
      "3     3.39     17850.0  United Kingdom  \n",
      "4     3.39     17850.0  United Kingdom  \n",
      "..     ...         ...             ...  \n",
      "195   8.50     12431.0       Australia  \n",
      "196   4.95     12431.0       Australia  \n",
      "197   1.25     12431.0       Australia  \n",
      "198   5.45     12431.0       Australia  \n",
      "199   6.35     12431.0       Australia  \n",
      "\n",
      "[200 rows x 7 columns]\n"
     ]
    }
   ],
   "source": [
    "a=data.head(200)\n",
    "print(a)"
   ]
  },
  {
   "cell_type": "code",
   "execution_count": 4,
   "id": "9032dcba",
   "metadata": {},
   "outputs": [
    {
     "data": {
      "text/plain": [
       "Index(['BillNo', 'Itemname', 'Quantity', 'Date', 'Price', 'CustomerID',\n",
       "       'Country'],\n",
       "      dtype='object')"
      ]
     },
     "execution_count": 4,
     "metadata": {},
     "output_type": "execute_result"
    }
   ],
   "source": [
    "data.columns\n",
    "\n"
   ]
  },
  {
   "cell_type": "code",
   "execution_count": 5,
   "id": "9bc83c28",
   "metadata": {},
   "outputs": [
    {
     "data": {
      "text/plain": [
       "<bound method NDFrame.tail of      BillNo                             Itemname  Quantity              Date  \\\n",
       "0    536365   WHITE HANGING HEART T-LIGHT HOLDER         6  01-12-2010 08:26   \n",
       "1    536365                  WHITE METAL LANTERN         6  01-12-2010 08:26   \n",
       "2    536365       CREAM CUPID HEARTS COAT HANGER         8  01-12-2010 08:26   \n",
       "3    536365  KNITTED UNION FLAG HOT WATER BOTTLE         6  01-12-2010 08:26   \n",
       "4    536365       RED WOOLLY HOTTIE WHITE HEART.         6  01-12-2010 08:26   \n",
       "..      ...                                  ...       ...               ...   \n",
       "538  536412    ROUND SNACK BOXES SET OF 4 FRUITS         1  01-12-2010 11:49   \n",
       "539  536412    ROUND SNACK BOXES SET OF 4 SKULLS         1  01-12-2010 11:49   \n",
       "540  536412                 DOLLY GIRL LUNCH BOX         1  01-12-2010 11:49   \n",
       "541  536412                   SPACEBOY LUNCH BOX         1  01-12-2010 11:49   \n",
       "542  536412                 GREEN POLKADOT PLATE         1  01-12-2010 11:49   \n",
       "\n",
       "     Price  CustomerID         Country  \n",
       "0     2.55     17850.0  United Kingdom  \n",
       "1     3.39     17850.0  United Kingdom  \n",
       "2     2.75     17850.0  United Kingdom  \n",
       "3     3.39     17850.0  United Kingdom  \n",
       "4     3.39     17850.0  United Kingdom  \n",
       "..     ...         ...             ...  \n",
       "538   2.95     17920.0  United Kingdom  \n",
       "539   2.95     17920.0  United Kingdom  \n",
       "540   1.95     17920.0  United Kingdom  \n",
       "541   1.95     17920.0  United Kingdom  \n",
       "542   1.69     17920.0  United Kingdom  \n",
       "\n",
       "[543 rows x 7 columns]>"
      ]
     },
     "execution_count": 5,
     "metadata": {},
     "output_type": "execute_result"
    }
   ],
   "source": [
    "data.tail\n"
   ]
  },
  {
   "cell_type": "code",
   "execution_count": 6,
   "id": "359a134c",
   "metadata": {},
   "outputs": [
    {
     "data": {
      "text/html": [
       "<div>\n",
       "<style scoped>\n",
       "    .dataframe tbody tr th:only-of-type {\n",
       "        vertical-align: middle;\n",
       "    }\n",
       "\n",
       "    .dataframe tbody tr th {\n",
       "        vertical-align: top;\n",
       "    }\n",
       "\n",
       "    .dataframe thead th {\n",
       "        text-align: right;\n",
       "    }\n",
       "</style>\n",
       "<table border=\"1\" class=\"dataframe\">\n",
       "  <thead>\n",
       "    <tr style=\"text-align: right;\">\n",
       "      <th></th>\n",
       "      <th>BillNo</th>\n",
       "      <th>Quantity</th>\n",
       "      <th>Price</th>\n",
       "      <th>CustomerID</th>\n",
       "    </tr>\n",
       "  </thead>\n",
       "  <tbody>\n",
       "    <tr>\n",
       "      <th>count</th>\n",
       "      <td>543.000000</td>\n",
       "      <td>543.000000</td>\n",
       "      <td>543.000000</td>\n",
       "      <td>540.000000</td>\n",
       "    </tr>\n",
       "    <tr>\n",
       "      <th>mean</th>\n",
       "      <td>536393.009208</td>\n",
       "      <td>15.751381</td>\n",
       "      <td>3.462836</td>\n",
       "      <td>15858.838889</td>\n",
       "    </tr>\n",
       "    <tr>\n",
       "      <th>std</th>\n",
       "      <td>13.476846</td>\n",
       "      <td>37.064655</td>\n",
       "      <td>7.697595</td>\n",
       "      <td>1800.149486</td>\n",
       "    </tr>\n",
       "    <tr>\n",
       "      <th>min</th>\n",
       "      <td>536365.000000</td>\n",
       "      <td>1.000000</td>\n",
       "      <td>0.100000</td>\n",
       "      <td>12431.000000</td>\n",
       "    </tr>\n",
       "    <tr>\n",
       "      <th>25%</th>\n",
       "      <td>536381.000000</td>\n",
       "      <td>2.000000</td>\n",
       "      <td>1.250000</td>\n",
       "      <td>14307.000000</td>\n",
       "    </tr>\n",
       "    <tr>\n",
       "      <th>50%</th>\n",
       "      <td>536396.000000</td>\n",
       "      <td>6.000000</td>\n",
       "      <td>2.100000</td>\n",
       "      <td>15862.000000</td>\n",
       "    </tr>\n",
       "    <tr>\n",
       "      <th>75%</th>\n",
       "      <td>536405.500000</td>\n",
       "      <td>12.000000</td>\n",
       "      <td>3.750000</td>\n",
       "      <td>17850.000000</td>\n",
       "    </tr>\n",
       "    <tr>\n",
       "      <th>max</th>\n",
       "      <td>536412.000000</td>\n",
       "      <td>432.000000</td>\n",
       "      <td>165.000000</td>\n",
       "      <td>18074.000000</td>\n",
       "    </tr>\n",
       "  </tbody>\n",
       "</table>\n",
       "</div>"
      ],
      "text/plain": [
       "              BillNo    Quantity       Price    CustomerID\n",
       "count     543.000000  543.000000  543.000000    540.000000\n",
       "mean   536393.009208   15.751381    3.462836  15858.838889\n",
       "std        13.476846   37.064655    7.697595   1800.149486\n",
       "min    536365.000000    1.000000    0.100000  12431.000000\n",
       "25%    536381.000000    2.000000    1.250000  14307.000000\n",
       "50%    536396.000000    6.000000    2.100000  15862.000000\n",
       "75%    536405.500000   12.000000    3.750000  17850.000000\n",
       "max    536412.000000  432.000000  165.000000  18074.000000"
      ]
     },
     "execution_count": 6,
     "metadata": {},
     "output_type": "execute_result"
    }
   ],
   "source": [
    "#perprocessing\n",
    "data.describe()"
   ]
  },
  {
   "cell_type": "code",
   "execution_count": 7,
   "id": "bf442b4a",
   "metadata": {},
   "outputs": [
    {
     "data": {
      "text/plain": [
       "BillNo        0\n",
       "Itemname      4\n",
       "Quantity      0\n",
       "Date          0\n",
       "Price         0\n",
       "CustomerID    3\n",
       "Country       0\n",
       "dtype: int64"
      ]
     },
     "execution_count": 7,
     "metadata": {},
     "output_type": "execute_result"
    }
   ],
   "source": [
    "data.isnull().sum()"
   ]
  },
  {
   "cell_type": "code",
   "execution_count": 8,
   "id": "61ca78fd",
   "metadata": {},
   "outputs": [
    {
     "data": {
      "text/plain": [
       "BillNo        0\n",
       "Itemname      4\n",
       "Quantity      0\n",
       "Date          0\n",
       "Price         0\n",
       "CustomerID    3\n",
       "Country       0\n",
       "dtype: int64"
      ]
     },
     "execution_count": 8,
     "metadata": {},
     "output_type": "execute_result"
    }
   ],
   "source": [
    "data.isnull().sum()"
   ]
  },
  {
   "cell_type": "code",
   "execution_count": 9,
   "id": "67f2d654",
   "metadata": {},
   "outputs": [],
   "source": [
    "data.BillNo=data.BillNo.fillna(\"unknow\")"
   ]
  },
  {
   "cell_type": "code",
   "execution_count": 10,
   "id": "b90bd397",
   "metadata": {},
   "outputs": [
    {
     "name": "stdout",
     "output_type": "stream",
     "text": [
      "0      536365\n",
      "1      536365\n",
      "2      536365\n",
      "3      536365\n",
      "4      536365\n",
      "        ...  \n",
      "538    536412\n",
      "539    536412\n",
      "540    536412\n",
      "541    536412\n",
      "542    536412\n",
      "Name: BillNo, Length: 543, dtype: int64\n"
     ]
    }
   ],
   "source": [
    "print(data.BillNo)"
   ]
  },
  {
   "cell_type": "code",
   "execution_count": 11,
   "id": "21bfa08a",
   "metadata": {},
   "outputs": [
    {
     "data": {
      "text/plain": [
       "BillNo        0\n",
       "Itemname      4\n",
       "Quantity      0\n",
       "Date          0\n",
       "Price         0\n",
       "CustomerID    3\n",
       "Country       0\n",
       "dtype: int64"
      ]
     },
     "execution_count": 11,
     "metadata": {},
     "output_type": "execute_result"
    }
   ],
   "source": [
    "data.isnull().sum()"
   ]
  },
  {
   "cell_type": "code",
   "execution_count": 12,
   "id": "04d32d00",
   "metadata": {},
   "outputs": [],
   "source": [
    "data.Date=data.Date.fillna(\"unknow\")"
   ]
  },
  {
   "cell_type": "code",
   "execution_count": 13,
   "id": "9cb2270e",
   "metadata": {},
   "outputs": [],
   "source": [
    "data.Itemname=data.Itemname.fillna(\"unknow\")"
   ]
  },
  {
   "cell_type": "code",
   "execution_count": 14,
   "id": "9201be80",
   "metadata": {},
   "outputs": [],
   "source": [
    "data.Price=data.Price.fillna(\"unknow\")"
   ]
  },
  {
   "cell_type": "code",
   "execution_count": 15,
   "id": "8a403256",
   "metadata": {},
   "outputs": [],
   "source": [
    "data.CustomerID=data.CustomerID.fillna(\"unknow\")\n",
    "data.Country=data.Country.fillna(\"unknow\")"
   ]
  },
  {
   "cell_type": "code",
   "execution_count": 16,
   "id": "075e2039",
   "metadata": {},
   "outputs": [
    {
     "data": {
      "text/plain": [
       "BillNo        0\n",
       "Itemname      0\n",
       "Quantity      0\n",
       "Date          0\n",
       "Price         0\n",
       "CustomerID    0\n",
       "Country       0\n",
       "dtype: int64"
      ]
     },
     "execution_count": 16,
     "metadata": {},
     "output_type": "execute_result"
    }
   ],
   "source": [
    "data.isnull().sum()\n"
   ]
  },
  {
   "cell_type": "code",
   "execution_count": 17,
   "id": "309ae35d",
   "metadata": {},
   "outputs": [
    {
     "name": "stdout",
     "output_type": "stream",
     "text": [
      "<class 'pandas.core.frame.DataFrame'>\n",
      "RangeIndex: 543 entries, 0 to 542\n",
      "Data columns (total 7 columns):\n",
      " #   Column      Non-Null Count  Dtype  \n",
      "---  ------      --------------  -----  \n",
      " 0   BillNo      543 non-null    int64  \n",
      " 1   Itemname    543 non-null    object \n",
      " 2   Quantity    543 non-null    int64  \n",
      " 3   Date        543 non-null    object \n",
      " 4   Price       543 non-null    float64\n",
      " 5   CustomerID  543 non-null    object \n",
      " 6   Country     543 non-null    object \n",
      "dtypes: float64(1), int64(2), object(4)\n",
      "memory usage: 29.8+ KB\n"
     ]
    }
   ],
   "source": [
    "data.info()"
   ]
  },
  {
   "cell_type": "code",
   "execution_count": 18,
   "id": "e5bf2b40",
   "metadata": {},
   "outputs": [
    {
     "data": {
      "text/html": [
       "<div>\n",
       "<style scoped>\n",
       "    .dataframe tbody tr th:only-of-type {\n",
       "        vertical-align: middle;\n",
       "    }\n",
       "\n",
       "    .dataframe tbody tr th {\n",
       "        vertical-align: top;\n",
       "    }\n",
       "\n",
       "    .dataframe thead th {\n",
       "        text-align: right;\n",
       "    }\n",
       "</style>\n",
       "<table border=\"1\" class=\"dataframe\">\n",
       "  <thead>\n",
       "    <tr style=\"text-align: right;\">\n",
       "      <th></th>\n",
       "      <th>BillNo</th>\n",
       "      <th>Itemname</th>\n",
       "      <th>Quantity</th>\n",
       "      <th>Date</th>\n",
       "      <th>Price</th>\n",
       "      <th>CustomerID</th>\n",
       "      <th>Country</th>\n",
       "    </tr>\n",
       "  </thead>\n",
       "  <tbody>\n",
       "    <tr>\n",
       "      <th>0</th>\n",
       "      <td>536365</td>\n",
       "      <td>WHITE HANGING HEART T-LIGHT HOLDER</td>\n",
       "      <td>6</td>\n",
       "      <td>01-12-2010 08:26</td>\n",
       "      <td>2.55</td>\n",
       "      <td>17850.0</td>\n",
       "      <td>United Kingdom</td>\n",
       "    </tr>\n",
       "    <tr>\n",
       "      <th>1</th>\n",
       "      <td>536365</td>\n",
       "      <td>WHITE METAL LANTERN</td>\n",
       "      <td>6</td>\n",
       "      <td>01-12-2010 08:26</td>\n",
       "      <td>3.39</td>\n",
       "      <td>17850.0</td>\n",
       "      <td>United Kingdom</td>\n",
       "    </tr>\n",
       "    <tr>\n",
       "      <th>2</th>\n",
       "      <td>536365</td>\n",
       "      <td>CREAM CUPID HEARTS COAT HANGER</td>\n",
       "      <td>8</td>\n",
       "      <td>01-12-2010 08:26</td>\n",
       "      <td>2.75</td>\n",
       "      <td>17850.0</td>\n",
       "      <td>United Kingdom</td>\n",
       "    </tr>\n",
       "    <tr>\n",
       "      <th>3</th>\n",
       "      <td>536365</td>\n",
       "      <td>KNITTED UNION FLAG HOT WATER BOTTLE</td>\n",
       "      <td>6</td>\n",
       "      <td>01-12-2010 08:26</td>\n",
       "      <td>3.39</td>\n",
       "      <td>17850.0</td>\n",
       "      <td>United Kingdom</td>\n",
       "    </tr>\n",
       "    <tr>\n",
       "      <th>4</th>\n",
       "      <td>536365</td>\n",
       "      <td>RED WOOLLY HOTTIE WHITE HEART.</td>\n",
       "      <td>6</td>\n",
       "      <td>01-12-2010 08:26</td>\n",
       "      <td>3.39</td>\n",
       "      <td>17850.0</td>\n",
       "      <td>United Kingdom</td>\n",
       "    </tr>\n",
       "    <tr>\n",
       "      <th>...</th>\n",
       "      <td>...</td>\n",
       "      <td>...</td>\n",
       "      <td>...</td>\n",
       "      <td>...</td>\n",
       "      <td>...</td>\n",
       "      <td>...</td>\n",
       "      <td>...</td>\n",
       "    </tr>\n",
       "    <tr>\n",
       "      <th>538</th>\n",
       "      <td>536412</td>\n",
       "      <td>ROUND SNACK BOXES SET OF 4 FRUITS</td>\n",
       "      <td>1</td>\n",
       "      <td>01-12-2010 11:49</td>\n",
       "      <td>2.95</td>\n",
       "      <td>17920.0</td>\n",
       "      <td>United Kingdom</td>\n",
       "    </tr>\n",
       "    <tr>\n",
       "      <th>539</th>\n",
       "      <td>536412</td>\n",
       "      <td>ROUND SNACK BOXES SET OF 4 SKULLS</td>\n",
       "      <td>1</td>\n",
       "      <td>01-12-2010 11:49</td>\n",
       "      <td>2.95</td>\n",
       "      <td>17920.0</td>\n",
       "      <td>United Kingdom</td>\n",
       "    </tr>\n",
       "    <tr>\n",
       "      <th>540</th>\n",
       "      <td>536412</td>\n",
       "      <td>DOLLY GIRL LUNCH BOX</td>\n",
       "      <td>1</td>\n",
       "      <td>01-12-2010 11:49</td>\n",
       "      <td>1.95</td>\n",
       "      <td>17920.0</td>\n",
       "      <td>United Kingdom</td>\n",
       "    </tr>\n",
       "    <tr>\n",
       "      <th>541</th>\n",
       "      <td>536412</td>\n",
       "      <td>SPACEBOY LUNCH BOX</td>\n",
       "      <td>1</td>\n",
       "      <td>01-12-2010 11:49</td>\n",
       "      <td>1.95</td>\n",
       "      <td>17920.0</td>\n",
       "      <td>United Kingdom</td>\n",
       "    </tr>\n",
       "    <tr>\n",
       "      <th>542</th>\n",
       "      <td>536412</td>\n",
       "      <td>GREEN POLKADOT PLATE</td>\n",
       "      <td>1</td>\n",
       "      <td>01-12-2010 11:49</td>\n",
       "      <td>1.69</td>\n",
       "      <td>17920.0</td>\n",
       "      <td>United Kingdom</td>\n",
       "    </tr>\n",
       "  </tbody>\n",
       "</table>\n",
       "<p>543 rows × 7 columns</p>\n",
       "</div>"
      ],
      "text/plain": [
       "     BillNo                             Itemname  Quantity              Date  \\\n",
       "0    536365   WHITE HANGING HEART T-LIGHT HOLDER         6  01-12-2010 08:26   \n",
       "1    536365                  WHITE METAL LANTERN         6  01-12-2010 08:26   \n",
       "2    536365       CREAM CUPID HEARTS COAT HANGER         8  01-12-2010 08:26   \n",
       "3    536365  KNITTED UNION FLAG HOT WATER BOTTLE         6  01-12-2010 08:26   \n",
       "4    536365       RED WOOLLY HOTTIE WHITE HEART.         6  01-12-2010 08:26   \n",
       "..      ...                                  ...       ...               ...   \n",
       "538  536412    ROUND SNACK BOXES SET OF 4 FRUITS         1  01-12-2010 11:49   \n",
       "539  536412    ROUND SNACK BOXES SET OF 4 SKULLS         1  01-12-2010 11:49   \n",
       "540  536412                 DOLLY GIRL LUNCH BOX         1  01-12-2010 11:49   \n",
       "541  536412                   SPACEBOY LUNCH BOX         1  01-12-2010 11:49   \n",
       "542  536412                 GREEN POLKADOT PLATE         1  01-12-2010 11:49   \n",
       "\n",
       "     Price CustomerID         Country  \n",
       "0     2.55    17850.0  United Kingdom  \n",
       "1     3.39    17850.0  United Kingdom  \n",
       "2     2.75    17850.0  United Kingdom  \n",
       "3     3.39    17850.0  United Kingdom  \n",
       "4     3.39    17850.0  United Kingdom  \n",
       "..     ...        ...             ...  \n",
       "538   2.95    17920.0  United Kingdom  \n",
       "539   2.95    17920.0  United Kingdom  \n",
       "540   1.95    17920.0  United Kingdom  \n",
       "541   1.95    17920.0  United Kingdom  \n",
       "542   1.69    17920.0  United Kingdom  \n",
       "\n",
       "[543 rows x 7 columns]"
      ]
     },
     "execution_count": 18,
     "metadata": {},
     "output_type": "execute_result"
    }
   ],
   "source": [
    "data\n"
   ]
  },
  {
   "cell_type": "code",
   "execution_count": 19,
   "id": "161f3c25",
   "metadata": {},
   "outputs": [
    {
     "name": "stdout",
     "output_type": "stream",
     "text": [
      "<class 'pandas.core.frame.DataFrame'>\n",
      "RangeIndex: 543 entries, 0 to 542\n",
      "Data columns (total 7 columns):\n",
      " #   Column      Non-Null Count  Dtype  \n",
      "---  ------      --------------  -----  \n",
      " 0   BillNo      543 non-null    int64  \n",
      " 1   Itemname    543 non-null    object \n",
      " 2   Quantity    543 non-null    int64  \n",
      " 3   Date        543 non-null    object \n",
      " 4   Price       543 non-null    float64\n",
      " 5   CustomerID  543 non-null    object \n",
      " 6   Country     543 non-null    object \n",
      "dtypes: float64(1), int64(2), object(4)\n",
      "memory usage: 29.8+ KB\n"
     ]
    }
   ],
   "source": [
    "data.info()"
   ]
  },
  {
   "cell_type": "code",
   "execution_count": 20,
   "id": "14f7734e",
   "metadata": {},
   "outputs": [
    {
     "data": {
      "text/html": [
       "<div>\n",
       "<style scoped>\n",
       "    .dataframe tbody tr th:only-of-type {\n",
       "        vertical-align: middle;\n",
       "    }\n",
       "\n",
       "    .dataframe tbody tr th {\n",
       "        vertical-align: top;\n",
       "    }\n",
       "\n",
       "    .dataframe thead th {\n",
       "        text-align: right;\n",
       "    }\n",
       "</style>\n",
       "<table border=\"1\" class=\"dataframe\">\n",
       "  <thead>\n",
       "    <tr style=\"text-align: right;\">\n",
       "      <th></th>\n",
       "      <th>Country</th>\n",
       "      <th>Itemname</th>\n",
       "      <th>Quantity</th>\n",
       "    </tr>\n",
       "  </thead>\n",
       "  <tbody>\n",
       "    <tr>\n",
       "      <th>4</th>\n",
       "      <td>United Kingdom</td>\n",
       "      <td>RED TOADSTOOL LED NIGHT LIGHT</td>\n",
       "      <td>434</td>\n",
       "    </tr>\n",
       "    <tr>\n",
       "      <th>3</th>\n",
       "      <td>Netherlands</td>\n",
       "      <td>HAND WARMER BIRD DESIGN</td>\n",
       "      <td>96</td>\n",
       "    </tr>\n",
       "    <tr>\n",
       "      <th>2</th>\n",
       "      <td>France</td>\n",
       "      <td>INFLATABLE POLITICAL GLOBE</td>\n",
       "      <td>48</td>\n",
       "    </tr>\n",
       "    <tr>\n",
       "      <th>0</th>\n",
       "      <td>Australia</td>\n",
       "      <td>LARGE HEART MEASURING SPOONS</td>\n",
       "      <td>24</td>\n",
       "    </tr>\n",
       "    <tr>\n",
       "      <th>1</th>\n",
       "      <td>Australia</td>\n",
       "      <td>SMALL HEART MEASURING SPOONS</td>\n",
       "      <td>24</td>\n",
       "    </tr>\n",
       "  </tbody>\n",
       "</table>\n",
       "</div>"
      ],
      "text/plain": [
       "          Country                       Itemname  Quantity\n",
       "4  United Kingdom  RED TOADSTOOL LED NIGHT LIGHT       434\n",
       "3     Netherlands        HAND WARMER BIRD DESIGN        96\n",
       "2          France     INFLATABLE POLITICAL GLOBE        48\n",
       "0       Australia   LARGE HEART MEASURING SPOONS        24\n",
       "1       Australia   SMALL HEART MEASURING SPOONS        24"
      ]
     },
     "execution_count": 20,
     "metadata": {},
     "output_type": "execute_result"
    }
   ],
   "source": [
    "best_selling_items = data.groupby(['Country', 'Itemname']).agg({'Quantity': 'sum'}).reset_index()\n",
    "best_selling_items = best_selling_items.groupby('Country').apply(lambda x: x[x['Quantity'] == x['Quantity'].max()]).reset_index(drop=True)\n",
    "best_selling_items.sort_values(\"Quantity\",ascending=False)"
   ]
  },
  {
   "cell_type": "code",
   "execution_count": 21,
   "id": "c634383a",
   "metadata": {},
   "outputs": [
    {
     "data": {
      "image/png": "[encoded data removed]",
      "text/plain": [
       "<Figure size 432x288 with 1 Axes>"
      ]
     },
     "metadata": {
      "needs_background": "light"
     },
     "output_type": "display_data"
    }
   ],
   "source": [
    "from matplotlib import pyplot as plt\n",
    "plt.bar(best_selling_items['Country'],best_selling_items['Itemname'])\n",
    "plt.yscale('log')\n",
    "plt.ylabel('Quantity')\n",
    "plt.xticks(rotation=90)\n",
    "plt.show()\n",
    "\n"
   ]
  },
  {
   "cell_type": "code",
   "execution_count": 22,
   "id": "6146cf79",
   "metadata": {},
   "outputs": [
    {
     "data": {
      "text/plain": [
       "Text(0.5, 1.0, 'Quantity')"
      ]
     },
     "execution_count": 22,
     "metadata": {},
     "output_type": "execute_result"
    },
    {
     "data": {
      "image/png": "[encoded data removed]",
      "text/plain": [
       "<Figure size 1584x504 with 2 Axes>"
      ]
     },
     "metadata": {
      "needs_background": "light"
     },
     "output_type": "display_data"
    }
   ],
   "source": [
    "from matplotlib import pyplot as plt\n",
    "plt.figure(figsize=(22,7))\n",
    "plt.subplot(1,2,1)\n",
    "a.Price.plot()\n",
    "plt.title(\"Price\")\n",
    "plt.subplot(1,2,2)\n",
    "a.Quantity.plot()\n",
    "plt.title(\"Quantity\")\n"
   ]
  },
  {
   "cell_type": "code",
   "execution_count": 23,
   "id": "c397ce0e",
   "metadata": {},
   "outputs": [],
   "source": [
    "import seaborn as sns"
   ]
  },
  {
   "cell_type": "code",
   "execution_count": 24,
   "id": "21da44ad",
   "metadata": {},
   "outputs": [
    {
     "data": {
      "text/plain": [
       "<AxesSubplot:>"
      ]
     },
     "execution_count": 24,
     "metadata": {},
     "output_type": "execute_result"
    },
    {
     "data": {
      "image/png": "[encoded data removed]",
      "text/plain": [
       "<Figure size 432x288 with 2 Axes>"
      ]
     },
     "metadata": {
      "needs_background": "light"
     },
     "output_type": "display_data"
    }
   ],
   "source": [
    "sns.heatmap(data.isnull())"
   ]
  },
  {
   "cell_type": "code",
   "execution_count": 25,
   "id": "698a3381",
   "metadata": {},
   "outputs": [
    {
     "data": {
      "text/plain": [
       "(array([0, 1, 2, 3, 4, 5, 6, 7, 8, 9]),\n",
       " [Text(0, 0, 'WHITE HANGING HEART T-LIGHT HOLDER'),\n",
       "  Text(1, 0, 'WHITE METAL LANTERN'),\n",
       "  Text(2, 0, 'CREAM CUPID HEARTS COAT HANGER'),\n",
       "  Text(3, 0, 'KNITTED UNION FLAG HOT WATER BOTTLE'),\n",
       "  Text(4, 0, 'RED WOOLLY HOTTIE WHITE HEART.'),\n",
       "  Text(5, 0, 'SET 7 BABUSHKA NESTING BOXES'),\n",
       "  Text(6, 0, 'GLASS STAR FROSTED T-LIGHT HOLDER'),\n",
       "  Text(7, 0, 'HAND WARMER UNION JACK'),\n",
       "  Text(8, 0, 'WOOD 2 DRAWER CABINET WHITE FINISH'),\n",
       "  Text(9, 0, 'HAND WARMER SCOTTY DOG DESIGN')])"
      ]
     },
     "execution_count": 25,
     "metadata": {},
     "output_type": "execute_result"
    },
    {
     "data": {
      "image/png": "[encoded data removed]",
      "text/plain": [
       "<Figure size 432x288 with 1 Axes>"
      ]
     },
     "metadata": {
      "needs_background": "light"
     },
     "output_type": "display_data"
    }
   ],
   "source": [
    "# Get the top 10 item names by count\n",
    "top_10_items = data['Itemname'].value_counts().nlargest(10).index\n",
    "\n",
    "# Filter the DataFrame to include only the top 10 item names\n",
    "df_top_10 = data[data['Itemname'].isin(top_10_items)]\n",
    "\n",
    "# Create a countplot for the top 10 item names\n",
    "ax=sns.countplot(data=df_top_10, x='Itemname')\n",
    "plt.xticks(rotation=90)"
   ]
  },
  {
   "cell_type": "code",
   "execution_count": 27,
   "id": "f916620a",
   "metadata": {},
   "outputs": [
    {
     "name": "stdout",
     "output_type": "stream",
     "text": [
      "Number of unique items: 361\n",
      "WHITE HANGING HEART T-LIGHT HOLDER     0.014733\n",
      "HAND WARMER UNION JACK                 0.011050\n",
      "KNITTED UNION FLAG HOT WATER BOTTLE    0.011050\n",
      "RED WOOLLY HOTTIE WHITE HEART.         0.011050\n",
      "SET 7 BABUSHKA NESTING BOXES           0.011050\n",
      "Name: Itemname, dtype: float64\n"
     ]
    }
   ],
   "source": [
    "data = data[data['Itemname'].notna()]\n",
    "print(\"Number of unique items:\", data['Itemname'].nunique())\n",
    "print(data['Itemname'].value_counts(normalize=True)[:5])"
   ]
  },
  {
   "cell_type": "code",
   "execution_count": null,
   "id": "0cf76ff7",
   "metadata": {},
   "outputs": [],
   "source": [
    "data.groupby('Itemname')['Quantity'].sum().sort_values(ascending=False)[:10].plot(kind='barh', title='Number of Quantity Sold')\n",
    "plt.ylabel('Item Name')\n",
    "plt.xlim(20000, 82000)\n",
    "plt.show()\n",
    "\n",
    "# Plotting the top 10 most sold products by count\n",
    "data['Itemname'].value_counts(ascending=False)[:10].plot(kind='barh', title='Number of Sales')\n",
    "plt.ylabel('Item Name')\n",
    "plt.xlim(0, 10)\n",
    "plt.show()"
   ]
  },
  {
   "cell_type": "code",
   "execution_count": null,
   "id": "72f6da9d",
   "metadata": {
    "scrolled": false
   },
   "outputs": [],
   "source": [
    "#association rulls\n",
    "import numpy as np # linear algebra\n",
    "import pandas as pd # data processing, CSV file I/O (e.g. pd.read_csv)\n",
    "from matplotlib import pyplot as plt\n",
    "from mlxtend.frequent_patterns import apriori, association_rules\n",
    "from mlxtend.preprocessing import TransactionEncoder\n",
    "\n",
    "\n",
    "df = pd.read_csv(\"D:/IBM/market basket insights1.csv\",names=['itemname'\n",
    "],sep=',')  \n",
    "a=df.head(500)  \n",
    "print(a)\n",
    "data = list(a[\"itemname\"].apply(lambda x:x.split(\",\") ))\n",
    "print(data)   \n",
    "\n",
    "b = TransactionEncoder()\n",
    "b_data = b.fit(data).transform(data)\n",
    "df = pd.DataFrame(b_data,columns=b.columns_)\n",
    "df = df.replace(False,0)\n",
    "print(df)\n",
    "\n",
    "df = apriori(df, min_support = 0.2, use_colnames = True, verbose = 1)\n",
    "print(df)\n"
   ]
  },
  {
   "cell_type": "code",
   "execution_count": null,
   "id": "48e24f57",
   "metadata": {},
   "outputs": [],
   "source": [
    "total_sales = data\n",
    "total_sales[\"Total_Price\"] = total_sales[\"Price\"] * total_sales[\"Quantity\"]\n",
    "#total_sales.columns\n",
    "total_sales_per_customer = total_sales.groupby([\"CustomerID\", \"Country\"]).agg({\"Total_Price\": \"sum\"})\n",
    "total_sales_per_customer.head(100)\n"
   ]
  },
  {
   "cell_type": "code",
   "execution_count": null,
   "id": "315d7420",
   "metadata": {},
   "outputs": [],
   "source": [
    "plt.rcParams['figure.figsize'] = (10,6)\n",
    "color = plt.cm.inferno(np.linspace(0,1,20))\n",
    "data[0].value_counts().head(20).plot.bar(color = color)\n",
    "plt.title('Top 20 Most Frequent Items')\n",
    "plt.ylabel('Counts')\n",
    "plt.xlabel('Items')\n",
    "plt.show()\n",
    "color = plt.cm.rainbow(np.linspace(0, 1, 40))\n",
    "data[0].value_counts().head(40).plot.bar(color = color, figsize=(13,5))\n",
    "plt.title('frequency of most popular items', fontsize = 20)\n",
    "plt.xticks(rotation = 90 )\n",
    "plt.grid()\n",
    "plt.show()"
   ]
  }
 ],
 "metadata": {
  "kernelspec": {
   "display_name": "Python 3 (ipykernel)",
   "language": "python",
   "name": "python3"
  },
  "language_info": {
   "codemirror_mode": {
    "name": "ipython",
    "version": 3
   },
   "file_extension": ".py",
   "mimetype": "text/x-python",
   "name": "python",
   "nbconvert_exporter": "python",
   "pygments_lexer": "ipython3",
   "version": "3.9.7"
  }
 },
 "nbformat": 4,
 "nbformat_minor": 5
}
